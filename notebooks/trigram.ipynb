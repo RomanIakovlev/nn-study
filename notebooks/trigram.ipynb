{
 "cells": [
  {
   "cell_type": "code",
   "execution_count": 1,
   "metadata": {},
   "outputs": [
    {
     "data": {
      "text/plain": [
       "32033"
      ]
     },
     "execution_count": 1,
     "metadata": {},
     "output_type": "execute_result"
    }
   ],
   "source": [
    "words = open(\"../data/names.txt\", \"r\").read().splitlines()\n",
    "len(words)"
   ]
  },
  {
   "attachments": {},
   "cell_type": "markdown",
   "metadata": {},
   "source": [
    "# Bigram implementation"
   ]
  },
  {
   "cell_type": "code",
   "execution_count": 2,
   "metadata": {},
   "outputs": [],
   "source": [
    "chars = sorted(list(set(''.join(words))))\n",
    "stoi = {s:i+1 for i,s in enumerate(chars)}\n",
    "stoi['.'] = 0\n",
    "itos = {i:s for s,i in stoi.items()}"
   ]
  },
  {
   "cell_type": "code",
   "execution_count": 3,
   "metadata": {},
   "outputs": [],
   "source": [
    "import torch\n",
    "\n",
    "N = torch.zeros((27, 27), dtype=torch.int32)\n",
    "\n",
    "\n",
    "for w in words:\n",
    "  chs = ['.'] + list(w) + ['.']\n",
    "  for ch1, ch2 in zip(chs, chs[1:]):\n",
    "    ix1 = stoi[ch1]\n",
    "    ix2 = stoi[ch2]\n",
    "    N[ix1, ix2] += 1\n",
    "    "
   ]
  },
  {
   "cell_type": "code",
   "execution_count": 4,
   "metadata": {},
   "outputs": [
    {
     "data": {
      "text/plain": [
       "(-0.5, 26.5, 26.5, -0.5)"
      ]
     },
     "execution_count": 4,
     "metadata": {},
     "output_type": "execute_result"
    }
   ],
   "source": [
    "# import matplotlib.pyplot as plt\n",
    "# %matplotlib inline\n",
    "\n",
    "# plt.figure(figsize=(16, 16))\n",
    "# k = 0\n",
    "# plt.imshow(N, cmap=\"Blues\")\n",
    "# for i in range(27):\n",
    "#   for j in range(27):\n",
    "#     chstr = itos[i] + itos[j]\n",
    "#     plt.text(j, i, chstr, ha=\"center\", va=\"bottom\", color='gray')\n",
    "#     plt.text(j, i, N[i, j].item(), ha=\"center\", va=\"top\", color='gray')\n",
    "\n",
    "# plt.axis('off')"
   ]
  },
  {
   "cell_type": "code",
   "execution_count": 4,
   "metadata": {},
   "outputs": [
    {
     "name": "stdout",
     "output_type": "stream",
     "text": [
      "bigram: \n",
      "['mor', 'axx', 'minaymoryles', 'kondlaisah', 'anchshizarie', 'odaren', 'iaddash', 'h', 'jhinatien', 'egushl']\n"
     ]
    }
   ],
   "source": [
    "g = torch.Generator().manual_seed(2147483647)\n",
    "\n",
    "result = []\n",
    "for i in range(10):\n",
    "    word = ''\n",
    "    ix = 0\n",
    "    while True:\n",
    "        p = N[ix].float()\n",
    "        p = p / p.sum()\n",
    "        #p = torch.rand(size=(1, 27), generator=g)\n",
    "        next = torch.multinomial(p, 1, replacement=True, generator=g).item()\n",
    "        char = itos[next]\n",
    "        if char == '.':\n",
    "            break\n",
    "        else:\n",
    "            word += char\n",
    "        ix = next\n",
    "    result.append(word)\n",
    "print(f'bigram: \\n{result}')"
   ]
  },
  {
   "cell_type": "code",
   "execution_count": 5,
   "metadata": {},
   "outputs": [],
   "source": [
    "P = (N + 1).float()\n",
    "P /= P.sum(1, keepdim=True)"
   ]
  },
  {
   "cell_type": "code",
   "execution_count": 6,
   "metadata": {},
   "outputs": [
    {
     "name": "stdout",
     "output_type": "stream",
     "text": [
      ".e  0.0478 -3.0410\n",
      "em  0.0377 -3.2793\n",
      "mm  0.0253 -3.6753\n",
      "ma  0.3885 -0.9454\n",
      "a.  0.1958 -1.6305\n",
      ".o  0.0123 -4.3965\n",
      "ol  0.0779 -2.5526\n",
      "li  0.1774 -1.7293\n",
      "iv  0.0152 -4.1845\n",
      "vi  0.3508 -1.0476\n",
      "ia  0.1380 -1.9807\n",
      "a.  0.1958 -1.6305\n",
      ".a  0.1376 -1.9835\n",
      "av  0.0246 -3.7041\n",
      "va  0.2473 -1.3971\n",
      "a.  0.1958 -1.6305\n",
      "38.80856704711914\n",
      "2.4255354404449463\n"
     ]
    }
   ],
   "source": [
    "log_likelihood = 0.0\n",
    "n = 0\n",
    "\n",
    "for w in words[:3]:\n",
    "    chs = ['.'] + list(w) + ['.']\n",
    "    for ch1, ch2 in zip(chs, chs[1:]):\n",
    "        ix1 = stoi[ch1]\n",
    "        ix2 = stoi[ch2]\n",
    "        prob = P[ix1, ix2]\n",
    "        logprob = torch.log(prob)\n",
    "        print(f'{ch1}{ch2} {prob: .4f} {logprob: .4f}')\n",
    "        log_likelihood += logprob\n",
    "        n += 1\n",
    "log_likelihood\n",
    "nll = -log_likelihood\n",
    "print(f'{nll}')\n",
    "print(f'{nll/n}')"
   ]
  },
  {
   "attachments": {},
   "cell_type": "markdown",
   "metadata": {},
   "source": [
    "# Trigram implementation"
   ]
  },
  {
   "cell_type": "code",
   "execution_count": 7,
   "metadata": {},
   "outputs": [],
   "source": [
    "N3 = torch.zeros((27, 27, 27), dtype=torch.int32)\n",
    "for w in words:\n",
    "  chs = ['.'] + list(w) + ['.']\n",
    "  for ch1, ch2, ch3 in zip(chs, chs[1:], chs[2:]):\n",
    "    ix1 = stoi[ch1]\n",
    "    ix2 = stoi[ch2]\n",
    "    ix3 = stoi[ch3]\n",
    "    N3[ix1, ix2, ix3] += 1"
   ]
  },
  {
   "cell_type": "code",
   "execution_count": 8,
   "metadata": {},
   "outputs": [
    {
     "name": "stdout",
     "output_type": "stream",
     "text": [
      "trigram: \n",
      "['rri', 'bry', 'nii', 'yloswais', 'nnaaraen', 'la', 'quetony', 'sid', 'ra', 'rimalaalexiaganilley', 'lia', 'lyn', 's', 'la', 'v', 'dalizleigh', 'h', 'ullia', 'nian', 'da', 'l', 'berendecatrutandenneppalycethon', 'maraivyn', 'yton', 'jdenelaymira', 'nn', 'ltseberrysinlexton', 'd', 'yah', 'nn']\n"
     ]
    }
   ],
   "source": [
    "g = torch.Generator().manual_seed(2147483647)\n",
    "\n",
    "result = []\n",
    "for i in range(30):\n",
    "    word = ''\n",
    "    ix = 0\n",
    "    iy = 1\n",
    "    while True:\n",
    "        p = N3[ix, iy].float()\n",
    "        p = p / p.sum()\n",
    "        next = torch.multinomial(p, 1, replacement=True, generator=g).item()\n",
    "        char = itos[next]\n",
    "        if char == '.':\n",
    "            break\n",
    "        else:\n",
    "            word += char\n",
    "        ix = iy\n",
    "        iy = next\n",
    "    result.append(word)\n",
    "print(f'trigram: \\n{result}')"
   ]
  },
  {
   "cell_type": "code",
   "execution_count": 9,
   "metadata": {},
   "outputs": [],
   "source": [
    "P3 = (N3 + 1).float()\n",
    "P3 /= P3.sum(2, keepdim=True)"
   ]
  },
  {
   "cell_type": "code",
   "execution_count": 10,
   "metadata": {},
   "outputs": [
    {
     "data": {
      "text/plain": [
       "tensor(1.)"
      ]
     },
     "execution_count": 10,
     "metadata": {},
     "output_type": "execute_result"
    }
   ],
   "source": [
    "P3[0, 0].sum()"
   ]
  },
  {
   "cell_type": "code",
   "execution_count": 11,
   "metadata": {},
   "outputs": [
    {
     "name": "stdout",
     "output_type": "stream",
     "text": [
      ".em  0.1855 -1.6847\n",
      "emm  0.1269 -2.0645\n",
      "mma  0.3744 -0.9825\n",
      "ma.  0.0669 -2.7050\n",
      ".ol  0.2494 -1.3887\n",
      "oli  0.1084 -2.2223\n",
      "liv  0.0219 -3.8195\n",
      "ivi  0.2669 -1.3209\n",
      "via  0.1578 -1.8465\n",
      "ia.  0.3657 -1.0060\n",
      ".av  0.0550 -2.9006\n",
      "ava  0.1882 -1.6705\n",
      "va.  0.1405 -1.9625\n",
      "25.574190139770508\n",
      "1.96724534034729\n"
     ]
    }
   ],
   "source": [
    "log_likelihood3 = 0.0\n",
    "n3 = 0\n",
    "\n",
    "for w in words[:3]:\n",
    "    chs = ['.'] + list(w) + ['.']\n",
    "    for ch1, ch2, ch3 in zip(chs, chs[1:], chs[2:]):\n",
    "        ix1 = stoi[ch1]\n",
    "        ix2 = stoi[ch2]\n",
    "        ix3 = stoi[ch3]\n",
    "        prob = P3[ix1, ix2, ix3]\n",
    "        logprob = torch.log(prob)\n",
    "        print(f'{ch1}{ch2}{ch3} {prob: .4f} {logprob: .4f}')\n",
    "        log_likelihood3 += logprob\n",
    "        n3 += 1\n",
    "log_likelihood3\n",
    "nll3 = -log_likelihood3\n",
    "print(f'{nll3}')\n",
    "print(f'{nll3/n3}')"
   ]
  },
  {
   "cell_type": "code",
   "execution_count": null,
   "metadata": {},
   "outputs": [],
   "source": []
  }
 ],
 "metadata": {
  "kernelspec": {
   "display_name": ".venv",
   "language": "python",
   "name": "python3"
  },
  "language_info": {
   "codemirror_mode": {
    "name": "ipython",
    "version": 3
   },
   "file_extension": ".py",
   "mimetype": "text/x-python",
   "name": "python",
   "nbconvert_exporter": "python",
   "pygments_lexer": "ipython3",
   "version": "3.9.6"
  },
  "orig_nbformat": 4,
  "vscode": {
   "interpreter": {
    "hash": "4d769a76f9132fe680a913e8e2e4e84761245406d3cfa0a8ecdb17aa87b1a653"
   }
  }
 },
 "nbformat": 4,
 "nbformat_minor": 2
}
